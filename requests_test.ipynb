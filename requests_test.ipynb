{
 "cells": [
  {
   "cell_type": "code",
   "execution_count": 4,
   "id": "7032346f",
   "metadata": {},
   "outputs": [],
   "source": [
    "import requests\n",
    "import pandas as pd"
   ]
  },
  {
   "cell_type": "code",
   "execution_count": 12,
   "id": "e0d65e98",
   "metadata": {},
   "outputs": [
    {
     "name": "stdout",
     "output_type": "stream",
     "text": [
      "success!\n",
      "  word phonetic                                          phonetics  \\\n",
      "0  cat    /kat/  [{'text': '/kat/', 'audio': 'https://api.dicti...   \n",
      "1  cat    /kat/  [{'text': '/kat/', 'audio': 'https://api.dicti...   \n",
      "2  cat    /kat/  [{'text': '/kat/', 'audio': 'https://api.dicti...   \n",
      "3  cat    /kat/  [{'text': '/kat/', 'audio': 'https://api.dicti...   \n",
      "4  cat    /kat/  [{'text': '/kat/', 'audio': 'https://api.dicti...   \n",
      "5  cat    /kat/  [{'text': '/kat/', 'audio': 'https://api.dicti...   \n",
      "6  cat    /kat/  [{'text': '/kat/', 'audio': 'https://api.dicti...   \n",
      "7  cat    /kat/  [{'text': '/kat/', 'audio': 'https://api.dicti...   \n",
      "8  cat    /kat/  [{'text': '/kat/', 'audio': 'https://api.dicti...   \n",
      "\n",
      "                                            meanings  \\\n",
      "0  [{'partOfSpeech': 'noun', 'definitions': [{'de...   \n",
      "1  [{'partOfSpeech': 'noun', 'definitions': [{'de...   \n",
      "2  [{'partOfSpeech': 'noun', 'definitions': [{'de...   \n",
      "3  [{'partOfSpeech': 'adjective', 'definitions': ...   \n",
      "4  [{'partOfSpeech': 'noun', 'definitions': [{'de...   \n",
      "5  [{'partOfSpeech': 'noun', 'definitions': [{'de...   \n",
      "6  [{'partOfSpeech': 'noun', 'definitions': [{'de...   \n",
      "7  [{'partOfSpeech': 'noun', 'definitions': [{'de...   \n",
      "8  [{'partOfSpeech': 'noun', 'definitions': [{'de...   \n",
      "\n",
      "                                             license  \\\n",
      "0  {'name': 'CC BY-SA 3.0', 'url': 'https://creat...   \n",
      "1  {'name': 'CC BY-SA 3.0', 'url': 'https://creat...   \n",
      "2  {'name': 'CC BY-SA 3.0', 'url': 'https://creat...   \n",
      "3  {'name': 'CC BY-SA 3.0', 'url': 'https://creat...   \n",
      "4  {'name': 'CC BY-SA 3.0', 'url': 'https://creat...   \n",
      "5  {'name': 'CC BY-SA 3.0', 'url': 'https://creat...   \n",
      "6  {'name': 'CC BY-SA 3.0', 'url': 'https://creat...   \n",
      "7  {'name': 'CC BY-SA 3.0', 'url': 'https://creat...   \n",
      "8  {'name': 'CC BY-SA 3.0', 'url': 'https://creat...   \n",
      "\n",
      "                                          sourceUrls  \n",
      "0               [https://en.wiktionary.org/wiki/cat]  \n",
      "1  [https://en.wiktionary.org/wiki/cat, https://e...  \n",
      "2               [https://en.wiktionary.org/wiki/cat]  \n",
      "3               [https://en.wiktionary.org/wiki/cat]  \n",
      "4               [https://en.wiktionary.org/wiki/cat]  \n",
      "5               [https://en.wiktionary.org/wiki/cat]  \n",
      "6  [https://en.wiktionary.org/wiki/cat, https://e...  \n",
      "7  [https://en.wiktionary.org/wiki/cat, https://e...  \n",
      "8               [https://en.wiktionary.org/wiki/cat]  \n"
     ]
    }
   ],
   "source": [
    "word_to_ask = \"cat\"\n",
    "\n",
    "url = \"https://api.dictionaryapi.dev/api/v2/entries/en/\" + word_to_ask\n",
    "response = requests.get(url)\n",
    "\n",
    "# Check if the request was successful\n",
    "if response.status_code == 200:\n",
    "    data = response.json()\n",
    "    print('success!')\n",
    "    df = pd.DataFrame(data)\n",
    "    print(df)\n",
    "else:\n",
    "    print(f\"Error: {response.status_code}\")\n"
   ]
  }
 ],
 "metadata": {
  "kernelspec": {
   "display_name": "Python 3",
   "language": "python",
   "name": "python3"
  },
  "language_info": {
   "codemirror_mode": {
    "name": "ipython",
    "version": 3
   },
   "file_extension": ".py",
   "mimetype": "text/x-python",
   "name": "python",
   "nbconvert_exporter": "python",
   "pygments_lexer": "ipython3",
   "version": "3.12.10"
  }
 },
 "nbformat": 4,
 "nbformat_minor": 5
}
